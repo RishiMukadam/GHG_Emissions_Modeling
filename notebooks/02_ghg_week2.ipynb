{
 "cells": [
  {
   "cell_type": "code",
   "execution_count": 4,
   "id": "8fcc6962-bf47-45c6-ae30-af1309a46abf",
   "metadata": {},
   "outputs": [
    {
     "data": {
      "text/html": [
       "<div>\n",
       "<style scoped>\n",
       "    .dataframe tbody tr th:only-of-type {\n",
       "        vertical-align: middle;\n",
       "    }\n",
       "\n",
       "    .dataframe tbody tr th {\n",
       "        vertical-align: top;\n",
       "    }\n",
       "\n",
       "    .dataframe thead th {\n",
       "        text-align: right;\n",
       "    }\n",
       "</style>\n",
       "<table border=\"1\" class=\"dataframe\">\n",
       "  <thead>\n",
       "    <tr style=\"text-align: right;\">\n",
       "      <th></th>\n",
       "      <th>Code</th>\n",
       "      <th>Name</th>\n",
       "      <th>Substance</th>\n",
       "      <th>Unit</th>\n",
       "      <th>Supply Chain Emission Factors without Margins</th>\n",
       "      <th>Margins of Supply Chain Emission Factors</th>\n",
       "      <th>Supply Chain Emission Factors with Margins</th>\n",
       "      <th>Unnamed: 7</th>\n",
       "      <th>DQ ReliabilityScore of Factors without Margins</th>\n",
       "      <th>DQ TemporalCorrelation of Factors without Margins</th>\n",
       "      <th>DQ GeographicalCorrelation of Factors without Margins</th>\n",
       "      <th>DQ TechnologicalCorrelation of Factors without Margins</th>\n",
       "      <th>DQ DataCollection of Factors without Margins</th>\n",
       "      <th>Source</th>\n",
       "      <th>Year</th>\n",
       "    </tr>\n",
       "  </thead>\n",
       "  <tbody>\n",
       "    <tr>\n",
       "      <th>0</th>\n",
       "      <td>1111A0</td>\n",
       "      <td>Fresh soybeans, canola, flaxseeds, and other o...</td>\n",
       "      <td>carbon dioxide</td>\n",
       "      <td>kg/2018 USD, purchaser price</td>\n",
       "      <td>0.398</td>\n",
       "      <td>0.073</td>\n",
       "      <td>0.470</td>\n",
       "      <td>NaN</td>\n",
       "      <td>4</td>\n",
       "      <td>3</td>\n",
       "      <td>1</td>\n",
       "      <td>4</td>\n",
       "      <td>1</td>\n",
       "      <td>Commodity</td>\n",
       "      <td>2010</td>\n",
       "    </tr>\n",
       "    <tr>\n",
       "      <th>1</th>\n",
       "      <td>1111A0</td>\n",
       "      <td>Fresh soybeans, canola, flaxseeds, and other o...</td>\n",
       "      <td>methane</td>\n",
       "      <td>kg/2018 USD, purchaser price</td>\n",
       "      <td>0.001</td>\n",
       "      <td>0.001</td>\n",
       "      <td>0.002</td>\n",
       "      <td>NaN</td>\n",
       "      <td>4</td>\n",
       "      <td>3</td>\n",
       "      <td>1</td>\n",
       "      <td>1</td>\n",
       "      <td>1</td>\n",
       "      <td>Commodity</td>\n",
       "      <td>2010</td>\n",
       "    </tr>\n",
       "    <tr>\n",
       "      <th>2</th>\n",
       "      <td>1111A0</td>\n",
       "      <td>Fresh soybeans, canola, flaxseeds, and other o...</td>\n",
       "      <td>nitrous oxide</td>\n",
       "      <td>kg/2018 USD, purchaser price</td>\n",
       "      <td>0.002</td>\n",
       "      <td>0.000</td>\n",
       "      <td>0.002</td>\n",
       "      <td>NaN</td>\n",
       "      <td>4</td>\n",
       "      <td>3</td>\n",
       "      <td>1</td>\n",
       "      <td>4</td>\n",
       "      <td>1</td>\n",
       "      <td>Commodity</td>\n",
       "      <td>2010</td>\n",
       "    </tr>\n",
       "    <tr>\n",
       "      <th>3</th>\n",
       "      <td>1111A0</td>\n",
       "      <td>Fresh soybeans, canola, flaxseeds, and other o...</td>\n",
       "      <td>other GHGs</td>\n",
       "      <td>kg CO2e/2018 USD, purchaser price</td>\n",
       "      <td>0.002</td>\n",
       "      <td>0.000</td>\n",
       "      <td>0.002</td>\n",
       "      <td>NaN</td>\n",
       "      <td>3</td>\n",
       "      <td>3</td>\n",
       "      <td>1</td>\n",
       "      <td>3</td>\n",
       "      <td>1</td>\n",
       "      <td>Commodity</td>\n",
       "      <td>2010</td>\n",
       "    </tr>\n",
       "    <tr>\n",
       "      <th>4</th>\n",
       "      <td>1111B0</td>\n",
       "      <td>Fresh wheat, corn, rice, and other grains</td>\n",
       "      <td>carbon dioxide</td>\n",
       "      <td>kg/2018 USD, purchaser price</td>\n",
       "      <td>0.659</td>\n",
       "      <td>0.081</td>\n",
       "      <td>0.740</td>\n",
       "      <td>NaN</td>\n",
       "      <td>4</td>\n",
       "      <td>3</td>\n",
       "      <td>1</td>\n",
       "      <td>4</td>\n",
       "      <td>1</td>\n",
       "      <td>Commodity</td>\n",
       "      <td>2010</td>\n",
       "    </tr>\n",
       "  </tbody>\n",
       "</table>\n",
       "</div>"
      ],
      "text/plain": [
       "     Code                                               Name       Substance  \\\n",
       "0  1111A0  Fresh soybeans, canola, flaxseeds, and other o...  carbon dioxide   \n",
       "1  1111A0  Fresh soybeans, canola, flaxseeds, and other o...         methane   \n",
       "2  1111A0  Fresh soybeans, canola, flaxseeds, and other o...   nitrous oxide   \n",
       "3  1111A0  Fresh soybeans, canola, flaxseeds, and other o...      other GHGs   \n",
       "4  1111B0          Fresh wheat, corn, rice, and other grains  carbon dioxide   \n",
       "\n",
       "                                Unit  \\\n",
       "0       kg/2018 USD, purchaser price   \n",
       "1       kg/2018 USD, purchaser price   \n",
       "2       kg/2018 USD, purchaser price   \n",
       "3  kg CO2e/2018 USD, purchaser price   \n",
       "4       kg/2018 USD, purchaser price   \n",
       "\n",
       "   Supply Chain Emission Factors without Margins  \\\n",
       "0                                          0.398   \n",
       "1                                          0.001   \n",
       "2                                          0.002   \n",
       "3                                          0.002   \n",
       "4                                          0.659   \n",
       "\n",
       "   Margins of Supply Chain Emission Factors  \\\n",
       "0                                     0.073   \n",
       "1                                     0.001   \n",
       "2                                     0.000   \n",
       "3                                     0.000   \n",
       "4                                     0.081   \n",
       "\n",
       "   Supply Chain Emission Factors with Margins  Unnamed: 7  \\\n",
       "0                                       0.470         NaN   \n",
       "1                                       0.002         NaN   \n",
       "2                                       0.002         NaN   \n",
       "3                                       0.002         NaN   \n",
       "4                                       0.740         NaN   \n",
       "\n",
       "   DQ ReliabilityScore of Factors without Margins  \\\n",
       "0                                               4   \n",
       "1                                               4   \n",
       "2                                               4   \n",
       "3                                               3   \n",
       "4                                               4   \n",
       "\n",
       "   DQ TemporalCorrelation of Factors without Margins  \\\n",
       "0                                                  3   \n",
       "1                                                  3   \n",
       "2                                                  3   \n",
       "3                                                  3   \n",
       "4                                                  3   \n",
       "\n",
       "   DQ GeographicalCorrelation of Factors without Margins  \\\n",
       "0                                                  1       \n",
       "1                                                  1       \n",
       "2                                                  1       \n",
       "3                                                  1       \n",
       "4                                                  1       \n",
       "\n",
       "   DQ TechnologicalCorrelation of Factors without Margins  \\\n",
       "0                                                  4        \n",
       "1                                                  1        \n",
       "2                                                  4        \n",
       "3                                                  3        \n",
       "4                                                  4        \n",
       "\n",
       "   DQ DataCollection of Factors without Margins     Source  Year  \n",
       "0                                             1  Commodity  2010  \n",
       "1                                             1  Commodity  2010  \n",
       "2                                             1  Commodity  2010  \n",
       "3                                             1  Commodity  2010  \n",
       "4                                             1  Commodity  2010  "
      ]
     },
     "execution_count": 4,
     "metadata": {},
     "output_type": "execute_result"
    }
   ],
   "source": [
    "import pandas as pd\n",
    "\n",
    "df = pd.read_csv(r\"C:\\Users\\Rushikesh\\Desktop\\Internship\\GHG_Emissions_Modeling\\data\\combined_emissions_data.csv\")\n",
    "df.head()"
   ]
  },
  {
   "cell_type": "code",
   "execution_count": 5,
   "id": "ef86415f-b079-4ca0-aa47-e1cd3fee7c21",
   "metadata": {},
   "outputs": [
    {
     "name": "stdout",
     "output_type": "stream",
     "text": [
      "['Code', 'Name', 'Substance', 'Unit', 'Supply Chain Emission Factors without Margins', 'Margins of Supply Chain Emission Factors', 'Supply Chain Emission Factors with Margins', 'Unnamed: 7', 'DQ ReliabilityScore of Factors without Margins', 'DQ TemporalCorrelation of Factors without Margins', 'DQ GeographicalCorrelation of Factors without Margins', 'DQ TechnologicalCorrelation of Factors without Margins', 'DQ DataCollection of Factors without Margins', 'Source', 'Year']\n"
     ]
    }
   ],
   "source": [
    "print(df.columns.tolist())"
   ]
  },
  {
   "cell_type": "code",
   "execution_count": 6,
   "id": "04da9a1e-de35-44f7-b046-92680ec4068e",
   "metadata": {},
   "outputs": [],
   "source": [
    "if 'Unnamed: 7' in df.columns:\n",
    "    df.drop(columns='Unnamed: 7', inplace=True)"
   ]
  },
  {
   "cell_type": "code",
   "execution_count": 7,
   "id": "62fd96ec-ad99-4e6c-90bd-cea688dc7a88",
   "metadata": {},
   "outputs": [
    {
     "name": "stdout",
     "output_type": "stream",
     "text": [
      "<class 'pandas.core.frame.DataFrame'>\n",
      "RangeIndex: 22092 entries, 0 to 22091\n",
      "Data columns (total 14 columns):\n",
      " #   Column                                                  Non-Null Count  Dtype  \n",
      "---  ------                                                  --------------  -----  \n",
      " 0   Code                                                    22092 non-null  object \n",
      " 1   Name                                                    22092 non-null  object \n",
      " 2   Substance                                               22092 non-null  object \n",
      " 3   Unit                                                    22092 non-null  object \n",
      " 4   Supply Chain Emission Factors without Margins           22092 non-null  float64\n",
      " 5   Margins of Supply Chain Emission Factors                22092 non-null  float64\n",
      " 6   Supply Chain Emission Factors with Margins              22092 non-null  float64\n",
      " 7   DQ ReliabilityScore of Factors without Margins          22092 non-null  int64  \n",
      " 8   DQ TemporalCorrelation of Factors without Margins       22092 non-null  int64  \n",
      " 9   DQ GeographicalCorrelation of Factors without Margins   22092 non-null  int64  \n",
      " 10  DQ TechnologicalCorrelation of Factors without Margins  22092 non-null  int64  \n",
      " 11  DQ DataCollection of Factors without Margins            22092 non-null  int64  \n",
      " 12  Source                                                  22092 non-null  object \n",
      " 13  Year                                                    22092 non-null  int64  \n",
      "dtypes: float64(3), int64(6), object(5)\n",
      "memory usage: 2.4+ MB\n"
     ]
    }
   ],
   "source": [
    "df.info()"
   ]
  },
  {
   "cell_type": "code",
   "execution_count": 8,
   "id": "8f9bcfec-9657-408a-909e-bccaa79dd977",
   "metadata": {},
   "outputs": [
    {
     "data": {
      "text/html": [
       "<div>\n",
       "<style scoped>\n",
       "    .dataframe tbody tr th:only-of-type {\n",
       "        vertical-align: middle;\n",
       "    }\n",
       "\n",
       "    .dataframe tbody tr th {\n",
       "        vertical-align: top;\n",
       "    }\n",
       "\n",
       "    .dataframe thead th {\n",
       "        text-align: right;\n",
       "    }\n",
       "</style>\n",
       "<table border=\"1\" class=\"dataframe\">\n",
       "  <thead>\n",
       "    <tr style=\"text-align: right;\">\n",
       "      <th></th>\n",
       "      <th>count</th>\n",
       "      <th>mean</th>\n",
       "      <th>std</th>\n",
       "      <th>min</th>\n",
       "      <th>25%</th>\n",
       "      <th>50%</th>\n",
       "      <th>75%</th>\n",
       "      <th>max</th>\n",
       "    </tr>\n",
       "  </thead>\n",
       "  <tbody>\n",
       "    <tr>\n",
       "      <th>Supply Chain Emission Factors without Margins</th>\n",
       "      <td>22092.0</td>\n",
       "      <td>0.084807</td>\n",
       "      <td>0.267039</td>\n",
       "      <td>0.0</td>\n",
       "      <td>0.0</td>\n",
       "      <td>0.002</td>\n",
       "      <td>0.044</td>\n",
       "      <td>7.228</td>\n",
       "    </tr>\n",
       "    <tr>\n",
       "      <th>Margins of Supply Chain Emission Factors</th>\n",
       "      <td>22092.0</td>\n",
       "      <td>0.012857</td>\n",
       "      <td>0.078720</td>\n",
       "      <td>0.0</td>\n",
       "      <td>0.0</td>\n",
       "      <td>0.000</td>\n",
       "      <td>0.000</td>\n",
       "      <td>3.349</td>\n",
       "    </tr>\n",
       "    <tr>\n",
       "      <th>Supply Chain Emission Factors with Margins</th>\n",
       "      <td>22092.0</td>\n",
       "      <td>0.097681</td>\n",
       "      <td>0.288992</td>\n",
       "      <td>0.0</td>\n",
       "      <td>0.0</td>\n",
       "      <td>0.003</td>\n",
       "      <td>0.052</td>\n",
       "      <td>7.290</td>\n",
       "    </tr>\n",
       "    <tr>\n",
       "      <th>DQ ReliabilityScore of Factors without Margins</th>\n",
       "      <td>22092.0</td>\n",
       "      <td>3.308030</td>\n",
       "      <td>0.499643</td>\n",
       "      <td>2.0</td>\n",
       "      <td>3.0</td>\n",
       "      <td>3.000</td>\n",
       "      <td>4.000</td>\n",
       "      <td>4.000</td>\n",
       "    </tr>\n",
       "    <tr>\n",
       "      <th>DQ TemporalCorrelation of Factors without Margins</th>\n",
       "      <td>22092.0</td>\n",
       "      <td>2.571429</td>\n",
       "      <td>0.494883</td>\n",
       "      <td>2.0</td>\n",
       "      <td>2.0</td>\n",
       "      <td>3.000</td>\n",
       "      <td>3.000</td>\n",
       "      <td>3.000</td>\n",
       "    </tr>\n",
       "    <tr>\n",
       "      <th>DQ GeographicalCorrelation of Factors without Margins</th>\n",
       "      <td>22092.0</td>\n",
       "      <td>1.000000</td>\n",
       "      <td>0.000000</td>\n",
       "      <td>1.0</td>\n",
       "      <td>1.0</td>\n",
       "      <td>1.000</td>\n",
       "      <td>1.000</td>\n",
       "      <td>1.000</td>\n",
       "    </tr>\n",
       "    <tr>\n",
       "      <th>DQ TechnologicalCorrelation of Factors without Margins</th>\n",
       "      <td>22092.0</td>\n",
       "      <td>2.632129</td>\n",
       "      <td>1.135661</td>\n",
       "      <td>1.0</td>\n",
       "      <td>1.0</td>\n",
       "      <td>3.000</td>\n",
       "      <td>3.000</td>\n",
       "      <td>5.000</td>\n",
       "    </tr>\n",
       "    <tr>\n",
       "      <th>DQ DataCollection of Factors without Margins</th>\n",
       "      <td>22092.0</td>\n",
       "      <td>1.000000</td>\n",
       "      <td>0.000000</td>\n",
       "      <td>1.0</td>\n",
       "      <td>1.0</td>\n",
       "      <td>1.000</td>\n",
       "      <td>1.000</td>\n",
       "      <td>1.000</td>\n",
       "    </tr>\n",
       "    <tr>\n",
       "      <th>Year</th>\n",
       "      <td>22092.0</td>\n",
       "      <td>2013.000000</td>\n",
       "      <td>2.000045</td>\n",
       "      <td>2010.0</td>\n",
       "      <td>2011.0</td>\n",
       "      <td>2013.000</td>\n",
       "      <td>2015.000</td>\n",
       "      <td>2016.000</td>\n",
       "    </tr>\n",
       "  </tbody>\n",
       "</table>\n",
       "</div>"
      ],
      "text/plain": [
       "                                                      count         mean  \\\n",
       "Supply Chain Emission Factors without Margins       22092.0     0.084807   \n",
       "Margins of Supply Chain Emission Factors            22092.0     0.012857   \n",
       "Supply Chain Emission Factors with Margins          22092.0     0.097681   \n",
       "DQ ReliabilityScore of Factors without Margins      22092.0     3.308030   \n",
       "DQ TemporalCorrelation of Factors without Margins   22092.0     2.571429   \n",
       "DQ GeographicalCorrelation of Factors without M...  22092.0     1.000000   \n",
       "DQ TechnologicalCorrelation of Factors without ...  22092.0     2.632129   \n",
       "DQ DataCollection of Factors without Margins        22092.0     1.000000   \n",
       "Year                                                22092.0  2013.000000   \n",
       "\n",
       "                                                         std     min     25%  \\\n",
       "Supply Chain Emission Factors without Margins       0.267039     0.0     0.0   \n",
       "Margins of Supply Chain Emission Factors            0.078720     0.0     0.0   \n",
       "Supply Chain Emission Factors with Margins          0.288992     0.0     0.0   \n",
       "DQ ReliabilityScore of Factors without Margins      0.499643     2.0     3.0   \n",
       "DQ TemporalCorrelation of Factors without Margins   0.494883     2.0     2.0   \n",
       "DQ GeographicalCorrelation of Factors without M...  0.000000     1.0     1.0   \n",
       "DQ TechnologicalCorrelation of Factors without ...  1.135661     1.0     1.0   \n",
       "DQ DataCollection of Factors without Margins        0.000000     1.0     1.0   \n",
       "Year                                                2.000045  2010.0  2011.0   \n",
       "\n",
       "                                                         50%       75%  \\\n",
       "Supply Chain Emission Factors without Margins          0.002     0.044   \n",
       "Margins of Supply Chain Emission Factors               0.000     0.000   \n",
       "Supply Chain Emission Factors with Margins             0.003     0.052   \n",
       "DQ ReliabilityScore of Factors without Margins         3.000     4.000   \n",
       "DQ TemporalCorrelation of Factors without Margins      3.000     3.000   \n",
       "DQ GeographicalCorrelation of Factors without M...     1.000     1.000   \n",
       "DQ TechnologicalCorrelation of Factors without ...     3.000     3.000   \n",
       "DQ DataCollection of Factors without Margins           1.000     1.000   \n",
       "Year                                                2013.000  2015.000   \n",
       "\n",
       "                                                         max  \n",
       "Supply Chain Emission Factors without Margins          7.228  \n",
       "Margins of Supply Chain Emission Factors               3.349  \n",
       "Supply Chain Emission Factors with Margins             7.290  \n",
       "DQ ReliabilityScore of Factors without Margins         4.000  \n",
       "DQ TemporalCorrelation of Factors without Margins      3.000  \n",
       "DQ GeographicalCorrelation of Factors without M...     1.000  \n",
       "DQ TechnologicalCorrelation of Factors without ...     5.000  \n",
       "DQ DataCollection of Factors without Margins           1.000  \n",
       "Year                                                2016.000  "
      ]
     },
     "execution_count": 8,
     "metadata": {},
     "output_type": "execute_result"
    }
   ],
   "source": [
    "df.describe().T"
   ]
  },
  {
   "cell_type": "code",
   "execution_count": 9,
   "id": "0df9c0d3-0ff2-448e-a566-dc384a8de63a",
   "metadata": {},
   "outputs": [
    {
     "data": {
      "text/plain": [
       "Code                                                      0\n",
       "Name                                                      0\n",
       "Substance                                                 0\n",
       "Unit                                                      0\n",
       "Supply Chain Emission Factors without Margins             0\n",
       "Margins of Supply Chain Emission Factors                  0\n",
       "Supply Chain Emission Factors with Margins                0\n",
       "DQ ReliabilityScore of Factors without Margins            0\n",
       "DQ TemporalCorrelation of Factors without Margins         0\n",
       "DQ GeographicalCorrelation of Factors without Margins     0\n",
       "DQ TechnologicalCorrelation of Factors without Margins    0\n",
       "DQ DataCollection of Factors without Margins              0\n",
       "Source                                                    0\n",
       "Year                                                      0\n",
       "dtype: int64"
      ]
     },
     "execution_count": 9,
     "metadata": {},
     "output_type": "execute_result"
    }
   ],
   "source": [
    "df.isnull().sum()"
   ]
  },
  {
   "cell_type": "code",
   "execution_count": 10,
   "id": "5794f22a-a05d-452d-b3b1-858b1aca9d3b",
   "metadata": {},
   "outputs": [
    {
     "name": "stdout",
     "output_type": "stream",
     "text": [
      "Total rows: 22092\n",
      "Rows with missing target: 0\n"
     ]
    }
   ],
   "source": [
    "print(\"Total rows:\", len(df))\n",
    "print(\"Rows with missing target:\", df['Supply Chain Emission Factors with Margins'].isnull().sum())\n"
   ]
  },
  {
   "cell_type": "code",
   "execution_count": 11,
   "id": "cb61c6a9-b5c5-47f7-8bf4-7b002cda0ed6",
   "metadata": {},
   "outputs": [],
   "source": [
    "df.dropna(subset=['Supply Chain Emission Factors with Margins'], inplace=True)\n"
   ]
  },
  {
   "cell_type": "code",
   "execution_count": 12,
   "id": "8b14196e-b6a6-400c-b032-a63ca3c5924c",
   "metadata": {},
   "outputs": [
    {
     "data": {
      "text/plain": [
       "Code                                                      0\n",
       "Name                                                      0\n",
       "Substance                                                 0\n",
       "Unit                                                      0\n",
       "Supply Chain Emission Factors without Margins             0\n",
       "Margins of Supply Chain Emission Factors                  0\n",
       "Supply Chain Emission Factors with Margins                0\n",
       "DQ ReliabilityScore of Factors without Margins            0\n",
       "DQ TemporalCorrelation of Factors without Margins         0\n",
       "DQ GeographicalCorrelation of Factors without Margins     0\n",
       "DQ TechnologicalCorrelation of Factors without Margins    0\n",
       "DQ DataCollection of Factors without Margins              0\n",
       "Source                                                    0\n",
       "Year                                                      0\n",
       "dtype: int64"
      ]
     },
     "execution_count": 12,
     "metadata": {},
     "output_type": "execute_result"
    }
   ],
   "source": [
    "df.isnull().sum()\n"
   ]
  },
  {
   "cell_type": "code",
   "execution_count": 13,
   "id": "48a62694-9520-4239-a451-1990bb912224",
   "metadata": {},
   "outputs": [],
   "source": [
    "import seaborn as sns\n",
    "import matplotlib.pyplot as plt\n"
   ]
  },
  {
   "cell_type": "code",
   "execution_count": 14,
   "id": "63dc664c-88c0-4731-82f4-ed3cee17f76b",
   "metadata": {},
   "outputs": [
    {
     "data": {
      "image/png": "[encoded data removed]",
      "text/plain": [
       "<Figure size 800x500 with 1 Axes>"
      ]
     },
     "metadata": {},
     "output_type": "display_data"
    }
   ],
   "source": [
    "plt.figure(figsize=(8, 5))\n",
    "sns.histplot(df['Supply Chain Emission Factors with Margins'], bins=50, kde=True)\n",
    "plt.title('Distribution of GHG Emission Factors (with Margins)')\n",
    "plt.xlabel('Emission Factor Value')\n",
    "plt.ylabel('Frequency')\n",
    "plt.grid(True)\n",
    "plt.show()\n"
   ]
  },
  {
   "cell_type": "code",
   "execution_count": 15,
   "id": "10848b57-d2cf-4b69-9e6f-1795acd915f2",
   "metadata": {},
   "outputs": [],
   "source": [
    "substance_map = {\n",
    "    'carbon dioxide': 0,\n",
    "    'methane': 1,\n",
    "    'nitrous oxide': 2,\n",
    "    'other GHGs': 3\n",
    "}\n",
    "\n",
    "df['Substance'] = df['Substance'].map(substance_map)\n"
   ]
  },
  {
   "cell_type": "code",
   "execution_count": 16,
   "id": "0976913e-baa4-4b16-a8e9-1b701769ff33",
   "metadata": {},
   "outputs": [],
   "source": [
    "unit_map = {\n",
    "    'kg/2018 USD, purchaser price': 0,\n",
    "    'kg CO2e/2018 USD, purchaser price': 1\n",
    "}\n",
    "\n",
    "df['Unit'] = df['Unit'].map(unit_map)\n"
   ]
  },
  {
   "cell_type": "code",
   "execution_count": 17,
   "id": "403e04f3-da9a-444e-93f8-f5f47295850c",
   "metadata": {},
   "outputs": [],
   "source": [
    "source_map = {\n",
    "    'Commodity': 0,\n",
    "    'Industry': 1\n",
    "}\n",
    "\n",
    "df['Source'] = df['Source'].map(source_map)\n"
   ]
  },
  {
   "cell_type": "code",
   "execution_count": 18,
   "id": "78100ad2-7a43-46c9-bce3-ddb003f7bb7d",
   "metadata": {},
   "outputs": [
    {
     "data": {
      "text/plain": [
       "Substance    int64\n",
       "Unit         int64\n",
       "Source       int64\n",
       "dtype: object"
      ]
     },
     "execution_count": 18,
     "metadata": {},
     "output_type": "execute_result"
    }
   ],
   "source": [
    "df[['Substance', 'Unit', 'Source']].dtypes\n"
   ]
  },
  {
   "cell_type": "code",
   "execution_count": 19,
   "id": "6f1eacec-153d-47e2-b63b-da502cf3f620",
   "metadata": {},
   "outputs": [],
   "source": [
    "features = [\n",
    "    'Substance', 'Unit',\n",
    "    'DQ ReliabilityScore of Factors without Margins',\n",
    "    'DQ TemporalCorrelation of Factors without Margins',\n",
    "    'DQ GeographicalCorrelation of Factors without Margins',\n",
    "    'DQ TechnologicalCorrelation of Factors without Margins',\n",
    "    'DQ DataCollection of Factors without Margins',\n",
    "    'Source', 'Year'\n",
    "]\n",
    "\n",
    "X = df[features]\n",
    "y = df['Supply Chain Emission Factors with Margins']\n"
   ]
  },
  {
   "cell_type": "code",
   "execution_count": 20,
   "id": "3e2b3d40-f495-4779-8afa-5b8d548303c5",
   "metadata": {},
   "outputs": [
    {
     "name": "stdout",
     "output_type": "stream",
     "text": [
      "Features shape (X): (22092, 9)\n",
      "Target shape (y): (22092,)\n"
     ]
    }
   ],
   "source": [
    "print(\"Features shape (X):\", X.shape)\n",
    "print(\"Target shape (y):\", y.shape)\n"
   ]
  },
  {
   "cell_type": "code",
   "execution_count": 21,
   "id": "d63124e2-3952-43a8-8a7f-260cb5f4b46a",
   "metadata": {},
   "outputs": [],
   "source": [
    "from sklearn.preprocessing import StandardScaler\n",
    "from sklearn.model_selection import train_test_split\n"
   ]
  },
  {
   "cell_type": "code",
   "execution_count": 22,
   "id": "d6787850-6581-4880-ab83-ed60f4196440",
   "metadata": {},
   "outputs": [],
   "source": [
    "scaler = StandardScaler()\n",
    "X_scaled = scaler.fit_transform(X)\n"
   ]
  },
  {
   "cell_type": "code",
   "execution_count": 23,
   "id": "a71db350-c28f-45a0-bf0e-9f5379db85e0",
   "metadata": {},
   "outputs": [],
   "source": [
    "X_train, X_test, y_train, y_test = train_test_split(\n",
    "    X_scaled, y, test_size=0.2, random_state=42\n",
    ")\n"
   ]
  },
  {
   "cell_type": "code",
   "execution_count": 24,
   "id": "0d85e1c5-efcb-4b09-95b4-eeedf11fdff2",
   "metadata": {},
   "outputs": [
    {
     "name": "stdout",
     "output_type": "stream",
     "text": [
      "Train shape: (17673, 9) (17673,)\n",
      "Test shape: (4419, 9) (4419,)\n"
     ]
    }
   ],
   "source": [
    "print(\"Train shape:\", X_train.shape, y_train.shape)\n",
    "print(\"Test shape:\", X_test.shape, y_test.shape)\n"
   ]
  },
  {
   "cell_type": "code",
   "execution_count": 25,
   "id": "d7f9d387-2cb7-4043-9a7a-e73da22c6b3a",
   "metadata": {},
   "outputs": [],
   "source": [
    "from sklearn.linear_model import LinearRegression\n",
    "from sklearn.ensemble import RandomForestRegressor\n",
    "from sklearn.metrics import mean_squared_error, r2_score\n",
    "import numpy as np\n"
   ]
  },
  {
   "cell_type": "code",
   "execution_count": 26,
   "id": "e5f67155-ce9d-4893-84a7-de7266161fe6",
   "metadata": {},
   "outputs": [
    {
     "name": "stdout",
     "output_type": "stream",
     "text": [
      "📊 Linear Regression\n",
      "RMSE: 0.18933865227370186\n",
      "R² Score: 0.361781068066947\n",
      "------------------------------\n",
      "📊 Random Forest\n",
      "RMSE: 0.20407810401221285\n",
      "R² Score: 0.2585464625297208\n",
      "------------------------------\n"
     ]
    }
   ],
   "source": [
    "models = {\n",
    "    'Linear Regression': LinearRegression(),\n",
    "    'Random Forest': RandomForestRegressor()\n",
    "}\n",
    "\n",
    "for name, model in models.items():\n",
    "    model.fit(X_train, y_train)\n",
    "    y_pred = model.predict(X_test)\n",
    "    \n",
    "    rmse = np.sqrt(mean_squared_error(y_test, y_pred))\n",
    "    r2 = r2_score(y_test, y_pred)\n",
    "    \n",
    "    print(f\"📊 {name}\")\n",
    "    print(\"RMSE:\", rmse)\n",
    "    print(\"R² Score:\", r2)\n",
    "    print(\"-\" * 30)\n"
   ]
  },
  {
   "cell_type": "code",
   "execution_count": 27,
   "id": "66f06c2d-e64c-4c20-a16c-f03cdbb92c0e",
   "metadata": {},
   "outputs": [
    {
     "data": {
      "text/html": [
       "<div>\n",
       "<style scoped>\n",
       "    .dataframe tbody tr th:only-of-type {\n",
       "        vertical-align: middle;\n",
       "    }\n",
       "\n",
       "    .dataframe tbody tr th {\n",
       "        vertical-align: top;\n",
       "    }\n",
       "\n",
       "    .dataframe thead th {\n",
       "        text-align: right;\n",
       "    }\n",
       "</style>\n",
       "<table border=\"1\" class=\"dataframe\">\n",
       "  <thead>\n",
       "    <tr style=\"text-align: right;\">\n",
       "      <th></th>\n",
       "      <th>Feature</th>\n",
       "      <th>Importance</th>\n",
       "    </tr>\n",
       "  </thead>\n",
       "  <tbody>\n",
       "    <tr>\n",
       "      <th>0</th>\n",
       "      <td>Substance</td>\n",
       "      <td>0.571717</td>\n",
       "    </tr>\n",
       "    <tr>\n",
       "      <th>5</th>\n",
       "      <td>DQ TechnologicalCorrelation of Factors without...</td>\n",
       "      <td>0.234898</td>\n",
       "    </tr>\n",
       "    <tr>\n",
       "      <th>8</th>\n",
       "      <td>Year</td>\n",
       "      <td>0.086668</td>\n",
       "    </tr>\n",
       "    <tr>\n",
       "      <th>2</th>\n",
       "      <td>DQ ReliabilityScore of Factors without Margins</td>\n",
       "      <td>0.070914</td>\n",
       "    </tr>\n",
       "    <tr>\n",
       "      <th>7</th>\n",
       "      <td>Source</td>\n",
       "      <td>0.030574</td>\n",
       "    </tr>\n",
       "    <tr>\n",
       "      <th>3</th>\n",
       "      <td>DQ TemporalCorrelation of Factors without Margins</td>\n",
       "      <td>0.004819</td>\n",
       "    </tr>\n",
       "    <tr>\n",
       "      <th>1</th>\n",
       "      <td>Unit</td>\n",
       "      <td>0.000409</td>\n",
       "    </tr>\n",
       "    <tr>\n",
       "      <th>4</th>\n",
       "      <td>DQ GeographicalCorrelation of Factors without ...</td>\n",
       "      <td>0.000000</td>\n",
       "    </tr>\n",
       "    <tr>\n",
       "      <th>6</th>\n",
       "      <td>DQ DataCollection of Factors without Margins</td>\n",
       "      <td>0.000000</td>\n",
       "    </tr>\n",
       "  </tbody>\n",
       "</table>\n",
       "</div>"
      ],
      "text/plain": [
       "                                             Feature  Importance\n",
       "0                                          Substance    0.571717\n",
       "5  DQ TechnologicalCorrelation of Factors without...    0.234898\n",
       "8                                               Year    0.086668\n",
       "2     DQ ReliabilityScore of Factors without Margins    0.070914\n",
       "7                                             Source    0.030574\n",
       "3  DQ TemporalCorrelation of Factors without Margins    0.004819\n",
       "1                                               Unit    0.000409\n",
       "4  DQ GeographicalCorrelation of Factors without ...    0.000000\n",
       "6       DQ DataCollection of Factors without Margins    0.000000"
      ]
     },
     "execution_count": 27,
     "metadata": {},
     "output_type": "execute_result"
    }
   ],
   "source": [
    "# After training the Random Forest\n",
    "rf = RandomForestRegressor()\n",
    "rf.fit(X_train, y_train)\n",
    "\n",
    "importances = rf.feature_importances_\n",
    "feature_names = X.columns\n",
    "\n",
    "# Create a DataFrame for better visualization\n",
    "import pandas as pd\n",
    "importance_df = pd.DataFrame({\n",
    "    'Feature': feature_names,\n",
    "    'Importance': importances\n",
    "}).sort_values(by='Importance', ascending=False)\n",
    "\n",
    "importance_df\n"
   ]
  },
  {
   "cell_type": "code",
   "execution_count": 28,
   "id": "3a0364a1-78db-4376-911b-b83cb09bd755",
   "metadata": {},
   "outputs": [
    {
     "data": {
      "image/png": "[encoded data removed]",
      "text/plain": [
       "<Figure size 1000x500 with 1 Axes>"
      ]
     },
     "metadata": {},
     "output_type": "display_data"
    }
   ],
   "source": [
    "import seaborn as sns\n",
    "import matplotlib.pyplot as plt\n",
    "\n",
    "plt.figure(figsize=(10, 5))\n",
    "sns.barplot(x='Importance', y='Feature', data=importance_df)\n",
    "plt.title('Feature Importance from Random Forest')\n",
    "plt.xlabel('Importance Score')\n",
    "plt.ylabel('Feature')\n",
    "plt.grid(True)\n",
    "plt.show()\n"
   ]
  },
  {
   "cell_type": "code",
   "execution_count": 29,
   "id": "b872fb94-1633-40f4-8ce2-67935b677b4f",
   "metadata": {},
   "outputs": [],
   "source": [
    "import joblib\n"
   ]
  },
  {
   "cell_type": "code",
   "execution_count": 30,
   "id": "39771250-be20-467f-8bcf-812a17ce5064",
   "metadata": {},
   "outputs": [
    {
     "name": "stdout",
     "output_type": "stream",
     "text": [
      "✅ Model saved!\n"
     ]
    }
   ],
   "source": [
    "# Save the random forest model to the models/ folder (create it if not present)\n",
    "import os\n",
    "os.makedirs(\"../models\", exist_ok=True)\n",
    "\n",
    "joblib.dump(rf, \"../models/random_forest_model.pkl\")\n",
    "print(\"✅ Model saved!\")\n"
   ]
  },
  {
   "cell_type": "code",
   "execution_count": 31,
   "id": "abb60c50-4409-4dc3-94e7-c3ad04e884b4",
   "metadata": {},
   "outputs": [],
   "source": [
    "# Load the saved model\n",
    "loaded_model = joblib.load(\"../models/random_forest_model.pkl\")\n",
    "\n",
    "# Use it for prediction\n",
    "y_pred_loaded = loaded_model.predict(X_test)\n"
   ]
  },
  {
   "cell_type": "code",
   "execution_count": null,
   "id": "c612dfdb-8df2-4889-b6a2-8804372763d3",
   "metadata": {},
   "outputs": [],
   "source": []
  }
 ],
 "metadata": {
  "kernelspec": {
   "display_name": "Python 3 (ipykernel)",
   "language": "python",
   "name": "python3"
  },
  "language_info": {
   "codemirror_mode": {
    "name": "ipython",
    "version": 3
   },
   "file_extension": ".py",
   "mimetype": "text/x-python",
   "name": "python",
   "nbconvert_exporter": "python",
   "pygments_lexer": "ipython3",
   "version": "3.12.6"
  }
 },
 "nbformat": 4,
 "nbformat_minor": 5
}
