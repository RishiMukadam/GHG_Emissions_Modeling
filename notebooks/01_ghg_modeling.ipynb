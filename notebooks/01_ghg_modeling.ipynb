{
 "cells": [
  {
   "cell_type": "code",
   "execution_count": 1,
   "id": "3838e127-df63-4cde-9cc0-6c2fb2430d92",
   "metadata": {},
   "outputs": [],
   "source": [
    "import sys\n",
    "import os\n",
    "sys.path.append(os.path.abspath(\"..\"))"
   ]
  },
  {
   "cell_type": "code",
   "execution_count": 2,
   "id": "5ee18f05-3187-44ee-b1a0-64e01004bb84",
   "metadata": {},
   "outputs": [],
   "source": [
    "import pandas as pd\n",
    "from src.preprocessing import preprocess_data\n",
    "from src.modeling import train_model"
   ]
  },
  {
   "cell_type": "code",
   "execution_count": 3,
   "id": "7e7b3fbe-9422-42e5-8a7a-3b0efe9e189e",
   "metadata": {},
   "outputs": [],
   "source": [
    "# Load combined CSV\n",
    "df = pd.read_csv('../data/combined_emissions_data.csv')"
   ]
  },
  {
   "cell_type": "code",
   "execution_count": 4,
   "id": "8fa308ae-f31b-432d-9788-be66f74c8470",
   "metadata": {},
   "outputs": [
    {
     "name": "stderr",
     "output_type": "stream",
     "text": [
      "C:\\Users\\Rushikesh\\Desktop\\Internship\\GHG_Emissions_Modeling\\src\\preprocessing.py:22: SettingWithCopyWarning: \n",
      "A value is trying to be set on a copy of a slice from a DataFrame.\n",
      "Try using .loc[row_indexer,col_indexer] = value instead\n",
      "\n",
      "See the caveats in the documentation: https://pandas.pydata.org/pandas-docs/stable/user_guide/indexing.html#returning-a-view-versus-a-copy\n",
      "  X[col] = LabelEncoder().fit_transform(X[col])\n",
      "C:\\Users\\Rushikesh\\Desktop\\Internship\\GHG_Emissions_Modeling\\src\\preprocessing.py:22: SettingWithCopyWarning: \n",
      "A value is trying to be set on a copy of a slice from a DataFrame.\n",
      "Try using .loc[row_indexer,col_indexer] = value instead\n",
      "\n",
      "See the caveats in the documentation: https://pandas.pydata.org/pandas-docs/stable/user_guide/indexing.html#returning-a-view-versus-a-copy\n",
      "  X[col] = LabelEncoder().fit_transform(X[col])\n",
      "C:\\Users\\Rushikesh\\Desktop\\Internship\\GHG_Emissions_Modeling\\src\\preprocessing.py:22: SettingWithCopyWarning: \n",
      "A value is trying to be set on a copy of a slice from a DataFrame.\n",
      "Try using .loc[row_indexer,col_indexer] = value instead\n",
      "\n",
      "See the caveats in the documentation: https://pandas.pydata.org/pandas-docs/stable/user_guide/indexing.html#returning-a-view-versus-a-copy\n",
      "  X[col] = LabelEncoder().fit_transform(X[col])\n"
     ]
    }
   ],
   "source": [
    "# Preprocess\n",
    "X, y = preprocess_data(df)"
   ]
  },
  {
   "cell_type": "code",
   "execution_count": 5,
   "id": "f4b53dc7-50a5-47fe-b0bf-26578ab6dc60",
   "metadata": {},
   "outputs": [
    {
     "name": "stdout",
     "output_type": "stream",
     "text": [
      "📊 Random Forest\n",
      "RMSE: 0.20092379150523137\n",
      "R² Score: 0.2812897318242743\n",
      "------------------------------\n",
      "📊 Linear Regression\n",
      "RMSE: 0.18933865227370186\n",
      "R² Score: 0.361781068066947\n",
      "------------------------------\n"
     ]
    }
   ],
   "source": [
    "# Train and evaluate\n",
    "train_model(X, y)"
   ]
  },
  {
   "cell_type": "code",
   "execution_count": null,
   "id": "2047c8d0-44f3-4609-b9c5-fa1dc9868b54",
   "metadata": {},
   "outputs": [],
   "source": []
  }
 ],
 "metadata": {
  "kernelspec": {
   "display_name": "Python 3 (ipykernel)",
   "language": "python",
   "name": "python3"
  },
  "language_info": {
   "codemirror_mode": {
    "name": "ipython",
    "version": 3
   },
   "file_extension": ".py",
   "mimetype": "text/x-python",
   "name": "python",
   "nbconvert_exporter": "python",
   "pygments_lexer": "ipython3",
   "version": "3.12.6"
  }
 },
 "nbformat": 4,
 "nbformat_minor": 5
}
